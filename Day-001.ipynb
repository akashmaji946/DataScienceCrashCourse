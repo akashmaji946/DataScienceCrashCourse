{
 "cells": [
  {
   "cell_type": "markdown",
   "id": "76df9233-6bc8-42ca-abce-704906fd2e65",
   "metadata": {},
   "source": [
    "# Welcome to DataSciLearn"
   ]
  },
  {
   "cell_type": "markdown",
   "id": "ade3d5c2-7ebb-44f5-ab3c-af029a4ae139",
   "metadata": {},
   "source": [
    "## Day 01: Introduction to Python and Setup Installation | Data Science with Gen AI Crash Course"
   ]
  },
  {
   "cell_type": "markdown",
   "id": "3e240767-9a67-48f4-92ac-196eee9eb79a",
   "metadata": {},
   "source": [
    "*Beginning is the half job done*\n"
   ]
  },
  {
   "cell_type": "markdown",
   "id": "b0e3dcff-7d5e-4236-97a7-0bfc8b6b2f32",
   "metadata": {},
   "source": [
    "# ========== DAY-01 START ==========\n"
   ]
  },
  {
   "cell_type": "code",
   "execution_count": 34,
   "id": "fd95e700-6feb-4b19-b84a-27d9d5f6a17b",
   "metadata": {},
   "outputs": [],
   "source": [
    "# this is a python session"
   ]
  },
  {
   "cell_type": "code",
   "execution_count": 35,
   "id": "4754d852-cbdf-4632-b9cf-a2edf17d12cc",
   "metadata": {},
   "outputs": [
    {
     "name": "stdout",
     "output_type": "stream",
     "text": [
      "hello user\n"
     ]
    }
   ],
   "source": [
    "print(\"hello user\")"
   ]
  },
  {
   "cell_type": "code",
   "execution_count": 36,
   "id": "7c314c33-d98a-4f5e-a3b8-61db4973acc5",
   "metadata": {},
   "outputs": [
    {
     "name": "stdout",
     "output_type": "stream",
     "text": [
      "12\n"
     ]
    }
   ],
   "source": [
    "a = 12\n",
    "print(a)"
   ]
  },
  {
   "cell_type": "code",
   "execution_count": 37,
   "id": "0f59bc7c-8258-4aca-8e29-676336d71dba",
   "metadata": {},
   "outputs": [
    {
     "data": {
      "text/plain": [
       "'\\nThis is a multiline comment\\nWe are learning AIML with GenAI\\n'"
      ]
     },
     "execution_count": 37,
     "metadata": {},
     "output_type": "execute_result"
    }
   ],
   "source": [
    "\"\"\"\n",
    "This is a multiline comment\n",
    "We are learning AIML with GenAI\n",
    "\"\"\""
   ]
  },
  {
   "cell_type": "code",
   "execution_count": 38,
   "id": "1b70fe62-dd2a-4d35-9aee-941556adfbe8",
   "metadata": {},
   "outputs": [],
   "source": [
    "# this is a nice youtube channel\n",
    "# this is a single line comment"
   ]
  },
  {
   "cell_type": "markdown",
   "id": "7bf26af7-ec69-4099-b1b4-d691a286573a",
   "metadata": {},
   "source": [
    "# this is heading 1\n",
    "## this is heading 2\n",
    "### this is heading 3\n",
    "#### this is heading 4\n",
    "##### this is heading 5\n",
    "###### this is heading 6"
   ]
  },
  {
   "cell_type": "code",
   "execution_count": 39,
   "id": "09da3763-9f85-4b72-b64d-5e03c8fb3d05",
   "metadata": {},
   "outputs": [
    {
     "name": "stdout",
     "output_type": "stream",
     "text": [
      "25\n"
     ]
    }
   ],
   "source": [
    "a = 12\n",
    "b = 13\n",
    "print(a+b)"
   ]
  },
  {
   "cell_type": "code",
   "execution_count": 40,
   "id": "ede52c48-2353-4618-a0e7-e0e98e3ae716",
   "metadata": {},
   "outputs": [],
   "source": [
    "a = 12"
   ]
  },
  {
   "cell_type": "code",
   "execution_count": 41,
   "id": "6a44367f-909c-4897-93ae-fade748dd347",
   "metadata": {},
   "outputs": [],
   "source": [
    "b = \"Hello\"\n"
   ]
  },
  {
   "cell_type": "code",
   "execution_count": 42,
   "id": "f79eefbd-03f5-4c04-93d5-244d56297f6d",
   "metadata": {},
   "outputs": [],
   "source": [
    "c = 12.89"
   ]
  },
  {
   "cell_type": "code",
   "execution_count": 43,
   "id": "fb57e2fe-316a-4f03-84d2-c365f744ae11",
   "metadata": {},
   "outputs": [],
   "source": [
    "d = True"
   ]
  },
  {
   "cell_type": "code",
   "execution_count": 44,
   "id": "2adf337c-3cba-40d0-be0e-d5d70495f41e",
   "metadata": {},
   "outputs": [],
   "source": [
    "d = None"
   ]
  },
  {
   "cell_type": "code",
   "execution_count": 45,
   "id": "081f70b7-dc24-4296-8449-947fb754eca9",
   "metadata": {},
   "outputs": [
    {
     "name": "stdout",
     "output_type": "stream",
     "text": [
      "<class 'int'>\n"
     ]
    }
   ],
   "source": [
    "print(type(a))"
   ]
  },
  {
   "cell_type": "code",
   "execution_count": 46,
   "id": "e1bd22cb-5d2e-4329-8e4f-0b8976ccf14d",
   "metadata": {},
   "outputs": [
    {
     "name": "stdout",
     "output_type": "stream",
     "text": [
      "<class 'str'>\n"
     ]
    }
   ],
   "source": [
    "print(type(b))"
   ]
  },
  {
   "cell_type": "code",
   "execution_count": 47,
   "id": "8c12e777-4b0c-4734-844c-fb46ff1c371f",
   "metadata": {},
   "outputs": [
    {
     "name": "stdout",
     "output_type": "stream",
     "text": [
      "<class 'float'>\n"
     ]
    }
   ],
   "source": [
    "print(type(c))"
   ]
  },
  {
   "cell_type": "code",
   "execution_count": 48,
   "id": "b47b56cb-8d15-4aa8-8f9a-bb8cea33f3bc",
   "metadata": {},
   "outputs": [
    {
     "name": "stdout",
     "output_type": "stream",
     "text": [
      "<class 'NoneType'>\n"
     ]
    }
   ],
   "source": [
    "print(type(d))"
   ]
  },
  {
   "cell_type": "markdown",
   "id": "4f364adc-0246-48b0-8247-1e75490dab0d",
   "metadata": {},
   "source": [
    "### We have different types in Python\n",
    "- int\n",
    "- float\n",
    "- str"
   ]
  },
  {
   "cell_type": "markdown",
   "id": "fba4d2ea-629d-4073-accb-811d2ca92074",
   "metadata": {},
   "source": [
    "print() is used for printing to console(stdin)"
   ]
  },
  {
   "cell_type": "markdown",
   "id": "f6fb3e27-ae45-4521-b8dd-5ada58859b73",
   "metadata": {},
   "source": [
    "# ========== DAY-02 END =========="
   ]
  },
  {
   "cell_type": "markdown",
   "id": "5187d7f2-4f44-487c-bc21-c9208cc22205",
   "metadata": {},
   "source": [
    "NOTE: This is created by Akash Maji (akash.maji.technocrat@gmail.com) and its content may be varying from what is originally taught in the corresponding lecture. Please use it with care and at your own consideration. Happy Learning !!"
   ]
  },
  {
   "cell_type": "code",
   "execution_count": null,
   "id": "497f9e2f-fe08-4081-8a1f-88d052fd9581",
   "metadata": {},
   "outputs": [],
   "source": []
  }
 ],
 "metadata": {
  "kernelspec": {
   "display_name": "Python 3 (ipykernel)",
   "language": "python",
   "name": "python3"
  },
  "language_info": {
   "codemirror_mode": {
    "name": "ipython",
    "version": 3
   },
   "file_extension": ".py",
   "mimetype": "text/x-python",
   "name": "python",
   "nbconvert_exporter": "python",
   "pygments_lexer": "ipython3",
   "version": "3.11.7"
  }
 },
 "nbformat": 4,
 "nbformat_minor": 5
}
